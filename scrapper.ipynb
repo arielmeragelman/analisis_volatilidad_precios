{
  "nbformat": 4,
  "nbformat_minor": 0,
  "metadata": {
    "colab": {
      "name": "scrapper.ipynb",
      "provenance": [],
      "collapsed_sections": [],
      "authorship_tag": "ABX9TyNwzCKbqkX9d4B0w7XSWK5F",
      "include_colab_link": true
    },
    "kernelspec": {
      "name": "python3",
      "display_name": "Python 3"
    },
    "language_info": {
      "name": "python"
    }
  },
  "cells": [
    {
      "cell_type": "markdown",
      "metadata": {
        "id": "view-in-github",
        "colab_type": "text"
      },
      "source": [
        "<a href=\"https://colab.research.google.com/github/arielmeragelman/analisis_volatilidad_precios/blob/main/scrapper.ipynb\" target=\"_parent\"><img src=\"https://colab.research.google.com/assets/colab-badge.svg\" alt=\"Open In Colab\"/></a>"
      ]
    },
    {
      "cell_type": "code",
      "execution_count": null,
      "metadata": {
        "colab": {
          "base_uri": "https://localhost:8080/"
        },
        "id": "zUYMT8ogd3k-",
        "outputId": "24ffbc14-22eb-48f3-daf8-a0afd0024d97"
      },
      "outputs": [
        {
          "output_type": "stream",
          "name": "stdout",
          "text": [
            "Requirement already satisfied: lxml in /usr/local/lib/python3.7/dist-packages (4.2.6)\n"
          ]
        }
      ],
      "source": [
        "!pip install lxml"
      ]
    },
    {
      "cell_type": "code",
      "source": [
        "import requests"
      ],
      "metadata": {
        "id": "A0gKu4tEd82_"
      },
      "execution_count": null,
      "outputs": []
    },
    {
      "cell_type": "code",
      "source": [
        "import lxml"
      ],
      "metadata": {
        "id": "tUkQhQVmeBrx"
      },
      "execution_count": null,
      "outputs": []
    },
    {
      "cell_type": "code",
      "source": [
        "from lxml import html\n",
        "import requests\n",
        "  \n",
        "# Request the page\n",
        "\n",
        "\n",
        "xpath_nombre_a='/html/body/div[4]/div/div[2]/div[4]/div['\n",
        "xpath_nombre_b=']/div/div[4]/text()'\n",
        "xpath_precio_a='/html/body/div[4]/div/div[2]/div[4]/div['\n",
        "xpath_precio_b=']/div/div[3]/span/text()'\n",
        "\n",
        "\n",
        "\n",
        "\n",
        "def scrap(web,categoria,xpath_nombre_a,xpath_nombre_b,xpath_precio_a,xpath_precio_b):\n",
        "  \n",
        "  \n",
        "  page = requests.get(web, verify=False)\n",
        "  tree = html.fromstring(page.content)  \n",
        "  productos=[]  \n",
        "\n",
        "  for elemento in range(1,10):\n",
        "   \n",
        "    producto_n = tree.xpath(xpath_nombre_a+str(elemento)+xpath_nombre_b)[0]\n",
        "    producto_n =producto_n.strip()\n",
        "    producto_p = tree.xpath(xpath_precio_a+str(elemento)+xpath_precio_b)[0]\n",
        "    producto_p =producto_p.strip()\n",
        "\n",
        "    productos.append((producto_n,producto_p.replace(\"$\", \"\"),categoria))\n",
        "  #print(productos)\n",
        "  return productos\n",
        "\n",
        "\n"
      ],
      "metadata": {
        "id": "aojQ5MbTeDQo"
      },
      "execution_count": 35,
      "outputs": []
    },
    {
      "cell_type": "code",
      "source": [
        "# conexion con la base de dato local en casa\n",
        "\n",
        "\n",
        "import pymysql\n",
        "link=pymysql.connect(\n",
        "   host=\"192.141.210.12\",    \n",
        "   user=\"laboratorio\", \n",
        "   password=\"laboratorio\",\n",
        "   db=\"bd_1\", \n",
        "   charset=\"utf8\",\n",
        "   port=3306\n",
        "   )\n",
        "\n",
        "\n",
        "def consulta_lineas(sql,link):\n",
        "  \n",
        "  cursor = link.cursor()\n",
        "  cursor.execute(mysql_consulta)\n",
        "  print(cursor.rowcount, \"Record inserted successfully into Laptop table\")\n",
        "  for row in cursor.fetchall():\n",
        "    print(row)\n",
        "  cursor.close()\n",
        "\n",
        "\n",
        "def insertar_linea(fecha,nombre_super,nombre_producto,precio_o,descuento,precio_final,categoria,link):\n",
        "  sql = \"\"\"insert into `entradas_super` (ID, Fecha, N_Super,N_Producto, Precio_Origen, Descuento, Precio_Final,Categoria)\n",
        "         values (%s, %s, %s, %s, %s, %s, %s,%s) \n",
        "    \"\"\"\n",
        "  cursor = link.cursor()\n",
        "  cursor.execute(sql,(\"\",fecha,nombre_super,nombre_producto,precio_o,descuento,precio_final,categoria))\n",
        "  link.commit()\n",
        "  cursor.close()\n",
        "\n",
        "\n",
        "\n",
        "sql = \"\"\"select * from entradas_super\"\"\"\n",
        "\n",
        "consulta_lineas(sql,link)\n",
        "\n",
        "#insertar_linea(\"2022-04-11\",\"MAMI 2\",\"LECHE DESCREMADA 1L\",122.5,\"\",122.5,\"LACTEOS\",link)\n",
        "\n"
      ],
      "metadata": {
        "id": "v51iywsHeGcb",
        "colab": {
          "base_uri": "https://localhost:8080/"
        },
        "outputId": "a4970c3e-c7f1-458e-d621-39e2d553f9b0"
      },
      "execution_count": 28,
      "outputs": [
        {
          "output_type": "stream",
          "name": "stdout",
          "text": [
            "3 Record inserted successfully into Laptop table\n",
            "(1, datetime.date(2022, 4, 10), 'SUPER_MAMI_1', 'LECHE_TREGAR_1L_DESCREMADA', 107.0, 1.0, 107.0, 'LECHES')\n",
            "(2, datetime.date(2022, 4, 11), 'MAMI 2', 'LECHE DESCREMADA 500cc', 122.0, 0.0, 122.0, 'LACTEOS')\n",
            "(3, datetime.date(2022, 4, 11), 'MAMI 2', 'LECHE DESCREMADA 1L', 122.5, 0.0, 122.5, 'LACTEOS')\n"
          ]
        }
      ]
    },
    {
      "cell_type": "code",
      "source": [
        "!pip install PyMySQL"
      ],
      "metadata": {
        "id": "WH8_wzmgqSyH"
      },
      "execution_count": null,
      "outputs": []
    },
    {
      "cell_type": "code",
      "source": [
        "from datetime import datetime\n",
        "hoy=datetime.today().strftime('%Y-%m-%d')\n",
        "\n",
        "\n",
        "#DINOSAURIO\n",
        "\n",
        "cat_list=[\"leche\",\"acondicionador\",\"shampoo\",\"jabon\"]\n",
        "\n",
        "def obtengo_inserto(lista,empresa):\n",
        "\n",
        "  for categoria in lista:\n",
        "    if empresa == \"SUPER_MAMI\":\n",
        "      web='https://www.dinoonline.com.ar/super/categoria?_dyncharset=utf-8&Dy=1&Nty=1&minAutoSuggestInputLength=3&autoSuggestServiceUrl=%2Fassembler%3FassemblerContentCollection%3D%2Fcontent%2FShared%2FAuto-Suggest+Panels%26format%3Djson&searchUrl=%2Fsuper&containerClass=search_rubricator&defaultImage=%2Fimages%2Fno_image_auto_suggest.png&rightNowEnabled=false&Ntt='+categoria+''\n",
        "  respuesta_scrap=scrap(web,categoria,xpath_nombre_a,xpath_nombre_b,xpath_precio_a,xpath_precio_b)\n",
        "    for producto in respuesta_scrap:\n",
        "      print(hoy,\"SUPER MAMI\",producto[0],producto[1],\"\",producto[1],categoria,link)\n",
        "      insertar_linea(hoy,\"SUPER MAMI\",producto[0],producto[1],\"\",producto[1],categoria,link)\n",
        "  \n",
        "\n",
        "\n"
      ],
      "metadata": {
        "colab": {
          "base_uri": "https://localhost:8080/"
        },
        "id": "B42qiR9bA5dW",
        "outputId": "48528c34-4b74-49b6-8484-02abeeccef54"
      },
      "execution_count": 39,
      "outputs": [
        {
          "output_type": "stream",
          "name": "stderr",
          "text": [
            "/usr/local/lib/python3.7/dist-packages/urllib3/connectionpool.py:847: InsecureRequestWarning: Unverified HTTPS request is being made. Adding certificate verification is strongly advised. See: https://urllib3.readthedocs.io/en/latest/advanced-usage.html#ssl-warnings\n",
            "  InsecureRequestWarning)\n"
          ]
        },
        {
          "output_type": "stream",
          "name": "stdout",
          "text": [
            "2022-04-11 SUPER MAMI ALIMENTO LA SERENISIMA A BASE DE ALMENDRAS BRIK X 1 LT 410.80  410.80 leche <pymysql.connections.Connection object at 0x7f6bdb5a7190>\n",
            "2022-04-11 SUPER MAMI ALIMENTO LA SERENISIMA A BASE DE ARROZ BRIK X 1 LT 384.80  384.80 leche <pymysql.connections.Connection object at 0x7f6bdb5a7190>\n",
            "2022-04-11 SUPER MAMI ALIMENTO LIQUIDO A BASE DE ALMENDRA SILK 946 ML NATURAL 270.00  270.00 leche <pymysql.connections.Connection object at 0x7f6bdb5a7190>\n",
            "2022-04-11 SUPER MAMI ALIMENTO LIQUIDO A BASE DE ALMENDRA SILK 946 ML NATURAL ENDULZ 270.00  270.00 leche <pymysql.connections.Connection object at 0x7f6bdb5a7190>\n",
            "2022-04-11 SUPER MAMI ALIMENTO LIQUIDO A BASE DE ALMENDRA SILK 946 ML VAINILLA 270.00  270.00 leche <pymysql.connections.Connection object at 0x7f6bdb5a7190>\n",
            "2022-04-11 SUPER MAMI BEBIDA LACTEA A BASE LA SERENISIMA SENSE CAPPUCHINO X 250 CC 130.00  130.00 leche <pymysql.connections.Connection object at 0x7f6bdb5a7190>\n",
            "2022-04-11 SUPER MAMI BEBIDA LACTEA A BASE LA SERENISIMA SENSE CARAMEL X 1 LT 317.20  317.20 leche <pymysql.connections.Connection object at 0x7f6bdb5a7190>\n",
            "2022-04-11 SUPER MAMI BEBIDA LACTEA A BASE LA SERENISIMA SENSE CARAMEL X 250 CC 130.00  130.00 leche <pymysql.connections.Connection object at 0x7f6bdb5a7190>\n",
            "2022-04-11 SUPER MAMI BEBIDA LACTEA A BASE LA SERENISIMA SENSE MACCHIATO X 250 CC 130.00  130.00 leche <pymysql.connections.Connection object at 0x7f6bdb5a7190>\n"
          ]
        },
        {
          "output_type": "stream",
          "name": "stderr",
          "text": [
            "/usr/local/lib/python3.7/dist-packages/urllib3/connectionpool.py:847: InsecureRequestWarning: Unverified HTTPS request is being made. Adding certificate verification is strongly advised. See: https://urllib3.readthedocs.io/en/latest/advanced-usage.html#ssl-warnings\n",
            "  InsecureRequestWarning)\n"
          ]
        },
        {
          "output_type": "stream",
          "name": "stdout",
          "text": [
            "2022-04-11 SUPER MAMI ACONDICIONADOR CAPILATIS BRILLO EXTREMO X 410 ML. 604.76  604.76 acondicionador <pymysql.connections.Connection object at 0x7f6bdb5a7190>\n",
            "2022-04-11 SUPER MAMI ACONDICIONADOR CAPILATIS CON KERATINA HAIR TERAPHY X 350 ML. 604.76  604.76 acondicionador <pymysql.connections.Connection object at 0x7f6bdb5a7190>\n",
            "2022-04-11 SUPER MAMI ACONDICIONADOR CAPILATIS MANZANILLA X 500 ML. 553.80  553.80 acondicionador <pymysql.connections.Connection object at 0x7f6bdb5a7190>\n",
            "2022-04-11 SUPER MAMI ACONDICIONADOR CAPILATIS ORTIGA X 410 ML. 553.80  553.80 acondicionador <pymysql.connections.Connection object at 0x7f6bdb5a7190>\n",
            "2022-04-11 SUPER MAMI ACONDICIONADOR DOVE  CUIDADO DELICADO X400ML 319.00  319.00 acondicionador <pymysql.connections.Connection object at 0x7f6bdb5a7190>\n",
            "2022-04-11 SUPER MAMI ACONDICIONADOR DOVE  NUTRICION OLEO MICELAR X400ML 319.00  319.00 acondicionador <pymysql.connections.Connection object at 0x7f6bdb5a7190>\n",
            "2022-04-11 SUPER MAMI ACONDICIONADOR DOVE  OLEO NUTRICION SUPERIOR X750ML 649.50  649.50 acondicionador <pymysql.connections.Connection object at 0x7f6bdb5a7190>\n",
            "2022-04-11 SUPER MAMI ACONDICIONADOR DOVE  RECONSTRUCCION  COMPLETA SUPERIOR X930ML 985.30  985.30 acondicionador <pymysql.connections.Connection object at 0x7f6bdb5a7190>\n",
            "2022-04-11 SUPER MAMI ACONDICIONADOR DOVE  RECONSTRUCCION COMPLETA SUPERIOR X750ML 649.50  649.50 acondicionador <pymysql.connections.Connection object at 0x7f6bdb5a7190>\n"
          ]
        },
        {
          "output_type": "stream",
          "name": "stderr",
          "text": [
            "/usr/local/lib/python3.7/dist-packages/urllib3/connectionpool.py:847: InsecureRequestWarning: Unverified HTTPS request is being made. Adding certificate verification is strongly advised. See: https://urllib3.readthedocs.io/en/latest/advanced-usage.html#ssl-warnings\n",
            "  InsecureRequestWarning)\n"
          ]
        },
        {
          "output_type": "stream",
          "name": "stdout",
          "text": [
            "2022-04-11 SUPER MAMI ACONDICIONADOR JOHNSON BABY  GOTAS DE BRILLO X200ML 410.80  410.80 shampoo <pymysql.connections.Connection object at 0x7f6bdb5a7190>\n",
            "2022-04-11 SUPER MAMI ACONDICIONADOR JOHNSON BABY  GOTAS DE BRILLO X400ML 465.00  465.00 shampoo <pymysql.connections.Connection object at 0x7f6bdb5a7190>\n",
            "2022-04-11 SUPER MAMI ACONDICIONADOR JOHNSON BABY  MANZANILLA X200ML 348.40  348.40 shampoo <pymysql.connections.Connection object at 0x7f6bdb5a7190>\n",
            "2022-04-11 SUPER MAMI ACONDICIONADOR JOHNSON BABY  MANZANILLA X400ML 475.00  475.00 shampoo <pymysql.connections.Connection object at 0x7f6bdb5a7190>\n",
            "2022-04-11 SUPER MAMI ACONDICIONADOR JOHNSON BABY FRAGANCIA PROLONGADA  X200ML 410.80  410.80 shampoo <pymysql.connections.Connection object at 0x7f6bdb5a7190>\n",
            "2022-04-11 SUPER MAMI ACONDICIONADOR JOHNSON BABY HIDRATACION INTENSA X200ML 410.80  410.80 shampoo <pymysql.connections.Connection object at 0x7f6bdb5a7190>\n",
            "2022-04-11 SUPER MAMI ACONDICIONADOR JOHNSON BABY ORIGINAL X200ML 348.40  348.40 shampoo <pymysql.connections.Connection object at 0x7f6bdb5a7190>\n",
            "2022-04-11 SUPER MAMI ACONDICIONADOR JOHNSON BABY RULOS X200ML 410.80  410.80 shampoo <pymysql.connections.Connection object at 0x7f6bdb5a7190>\n",
            "2022-04-11 SUPER MAMI ACONDICIONADOR PLUSBELLE KIDS FUERZA NATURAL X 700ML 342.68  342.68 shampoo <pymysql.connections.Connection object at 0x7f6bdb5a7190>\n"
          ]
        },
        {
          "output_type": "stream",
          "name": "stderr",
          "text": [
            "/usr/local/lib/python3.7/dist-packages/urllib3/connectionpool.py:847: InsecureRequestWarning: Unverified HTTPS request is being made. Adding certificate verification is strongly advised. See: https://urllib3.readthedocs.io/en/latest/advanced-usage.html#ssl-warnings\n",
            "  InsecureRequestWarning)\n"
          ]
        },
        {
          "output_type": "stream",
          "name": "stdout",
          "text": [
            "2022-04-11 SUPER MAMI GEL EXFOLIANTE NEUTROGENA ACNE PROOFING X 100 GR. 915.20  915.20 jabon <pymysql.connections.Connection object at 0x7f6bdb5a7190>\n",
            "2022-04-11 SUPER MAMI JABON DE TOCADOR  REXONA  SENSIBLE X125G 82.37  82.37 jabon <pymysql.connections.Connection object at 0x7f6bdb5a7190>\n",
            "2022-04-11 SUPER MAMI JABON DE TOCADOR DOVE BLANCO ORIGINAL X 90 GR. 154.96  154.96 jabon <pymysql.connections.Connection object at 0x7f6bdb5a7190>\n",
            "2022-04-11 SUPER MAMI JABON DE TOCADOR DOVE EXFOLIACION X 90 GR. 93.50  93.50 jabon <pymysql.connections.Connection object at 0x7f6bdb5a7190>\n",
            "2022-04-11 SUPER MAMI JABON DE TOCADOR DOVE ORIGINAL X 90 GR. 107.74  107.74 jabon <pymysql.connections.Connection object at 0x7f6bdb5a7190>\n",
            "2022-04-11 SUPER MAMI JABON DE TOCADOR DOVE X 90 GR. X 6 UN. 622.96  622.96 jabon <pymysql.connections.Connection object at 0x7f6bdb5a7190>\n",
            "2022-04-11 SUPER MAMI JABON DE TOCADOR KENIA COLORMIX 3 UN. X 80 GR. 128.44  128.44 jabon <pymysql.connections.Connection object at 0x7f6bdb5a7190>\n",
            "2022-04-11 SUPER MAMI JABON DE TOCADOR KENIA CREMOSO X 90 GR. 47.32  47.32 jabon <pymysql.connections.Connection object at 0x7f6bdb5a7190>\n",
            "2022-04-11 SUPER MAMI JABON DE TOCADOR KENIA GLICERINA X 90 GR. X 4 UN. 255.74  255.74 jabon <pymysql.connections.Connection object at 0x7f6bdb5a7190>\n"
          ]
        }
      ]
    },
    {
      "cell_type": "code",
      "source": [
        "sql = \"\"\"select * from entradas_super\"\"\"\n",
        "\n",
        "consulta_lineas(sql,link)"
      ],
      "metadata": {
        "colab": {
          "base_uri": "https://localhost:8080/"
        },
        "id": "szHh7Z9XPgu_",
        "outputId": "e3e412ef-e85d-4095-cca1-f37923cc423d"
      },
      "execution_count": 40,
      "outputs": [
        {
          "output_type": "stream",
          "name": "stdout",
          "text": [
            "39 Record inserted successfully into Laptop table\n",
            "(1, datetime.date(2022, 4, 10), 'SUPER_MAMI_1', 'LECHE_TREGAR_1L_DESCREMADA', 107.0, 1.0, 107.0, 'LECHES')\n",
            "(2, datetime.date(2022, 4, 11), 'MAMI 2', 'LECHE DESCREMADA 500cc', 122.0, 0.0, 122.0, 'LACTEOS')\n",
            "(3, datetime.date(2022, 4, 11), 'MAMI 2', 'LECHE DESCREMADA 1L', 122.5, 0.0, 122.5, 'LACTEOS')\n",
            "(4, datetime.date(2022, 4, 11), 'SUPER MAMI', 'ALIMENTO LA SERENISIMA A BASE DE ALMENDRAS BRIK X ', 410.8, 0.0, 410.8, 'leche')\n",
            "(5, datetime.date(2022, 4, 11), 'SUPER MAMI', 'ALIMENTO LA SERENISIMA A BASE DE ARROZ BRIK X 1 LT', 384.8, 0.0, 384.8, 'leche')\n",
            "(6, datetime.date(2022, 4, 11), 'SUPER MAMI', 'ALIMENTO LIQUIDO A BASE DE ALMENDRA SILK 946 ML NA', 270.0, 0.0, 270.0, 'leche')\n",
            "(7, datetime.date(2022, 4, 11), 'SUPER MAMI', 'ALIMENTO LIQUIDO A BASE DE ALMENDRA SILK 946 ML NA', 270.0, 0.0, 270.0, 'leche')\n",
            "(8, datetime.date(2022, 4, 11), 'SUPER MAMI', 'ALIMENTO LIQUIDO A BASE DE ALMENDRA SILK 946 ML VA', 270.0, 0.0, 270.0, 'leche')\n",
            "(9, datetime.date(2022, 4, 11), 'SUPER MAMI', 'BEBIDA LACTEA A BASE LA SERENISIMA SENSE CAPPUCHIN', 130.0, 0.0, 130.0, 'leche')\n",
            "(10, datetime.date(2022, 4, 11), 'SUPER MAMI', 'BEBIDA LACTEA A BASE LA SERENISIMA SENSE CARAMEL X', 317.2, 0.0, 317.2, 'leche')\n",
            "(11, datetime.date(2022, 4, 11), 'SUPER MAMI', 'BEBIDA LACTEA A BASE LA SERENISIMA SENSE CARAMEL X', 130.0, 0.0, 130.0, 'leche')\n",
            "(12, datetime.date(2022, 4, 11), 'SUPER MAMI', 'BEBIDA LACTEA A BASE LA SERENISIMA SENSE MACCHIATO', 130.0, 0.0, 130.0, 'leche')\n",
            "(13, datetime.date(2022, 4, 11), 'SUPER MAMI', 'ACONDICIONADOR CAPILATIS BRILLO EXTREMO X 410 ML.', 604.76, 0.0, 604.76, 'acondicionador')\n",
            "(14, datetime.date(2022, 4, 11), 'SUPER MAMI', 'ACONDICIONADOR CAPILATIS CON KERATINA HAIR TERAPHY', 604.76, 0.0, 604.76, 'acondicionador')\n",
            "(15, datetime.date(2022, 4, 11), 'SUPER MAMI', 'ACONDICIONADOR CAPILATIS MANZANILLA X 500 ML.', 553.8, 0.0, 553.8, 'acondicionador')\n",
            "(16, datetime.date(2022, 4, 11), 'SUPER MAMI', 'ACONDICIONADOR CAPILATIS ORTIGA X 410 ML.', 553.8, 0.0, 553.8, 'acondicionador')\n",
            "(17, datetime.date(2022, 4, 11), 'SUPER MAMI', 'ACONDICIONADOR DOVE  CUIDADO DELICADO X400ML', 319.0, 0.0, 319.0, 'acondicionador')\n",
            "(18, datetime.date(2022, 4, 11), 'SUPER MAMI', 'ACONDICIONADOR DOVE  NUTRICION OLEO MICELAR X400ML', 319.0, 0.0, 319.0, 'acondicionador')\n",
            "(19, datetime.date(2022, 4, 11), 'SUPER MAMI', 'ACONDICIONADOR DOVE  OLEO NUTRICION SUPERIOR X750M', 649.5, 0.0, 649.5, 'acondicionador')\n",
            "(20, datetime.date(2022, 4, 11), 'SUPER MAMI', 'ACONDICIONADOR DOVE  RECONSTRUCCION  COMPLETA SUPE', 985.3, 0.0, 985.3, 'acondicionador')\n",
            "(21, datetime.date(2022, 4, 11), 'SUPER MAMI', 'ACONDICIONADOR DOVE  RECONSTRUCCION COMPLETA SUPER', 649.5, 0.0, 649.5, 'acondicionador')\n",
            "(22, datetime.date(2022, 4, 11), 'SUPER MAMI', 'ACONDICIONADOR JOHNSON BABY  GOTAS DE BRILLO X200M', 410.8, 0.0, 410.8, 'shampoo')\n",
            "(23, datetime.date(2022, 4, 11), 'SUPER MAMI', 'ACONDICIONADOR JOHNSON BABY  GOTAS DE BRILLO X400M', 465.0, 0.0, 465.0, 'shampoo')\n",
            "(24, datetime.date(2022, 4, 11), 'SUPER MAMI', 'ACONDICIONADOR JOHNSON BABY  MANZANILLA X200ML', 348.4, 0.0, 348.4, 'shampoo')\n",
            "(25, datetime.date(2022, 4, 11), 'SUPER MAMI', 'ACONDICIONADOR JOHNSON BABY  MANZANILLA X400ML', 475.0, 0.0, 475.0, 'shampoo')\n",
            "(26, datetime.date(2022, 4, 11), 'SUPER MAMI', 'ACONDICIONADOR JOHNSON BABY FRAGANCIA PROLONGADA  ', 410.8, 0.0, 410.8, 'shampoo')\n",
            "(27, datetime.date(2022, 4, 11), 'SUPER MAMI', 'ACONDICIONADOR JOHNSON BABY HIDRATACION INTENSA X2', 410.8, 0.0, 410.8, 'shampoo')\n",
            "(28, datetime.date(2022, 4, 11), 'SUPER MAMI', 'ACONDICIONADOR JOHNSON BABY ORIGINAL X200ML', 348.4, 0.0, 348.4, 'shampoo')\n",
            "(29, datetime.date(2022, 4, 11), 'SUPER MAMI', 'ACONDICIONADOR JOHNSON BABY RULOS X200ML', 410.8, 0.0, 410.8, 'shampoo')\n",
            "(30, datetime.date(2022, 4, 11), 'SUPER MAMI', 'ACONDICIONADOR PLUSBELLE KIDS FUERZA NATURAL X 700', 342.68, 0.0, 342.68, 'shampoo')\n",
            "(31, datetime.date(2022, 4, 11), 'SUPER MAMI', 'GEL EXFOLIANTE NEUTROGENA ACNE PROOFING X 100 GR.', 915.2, 0.0, 915.2, 'jabon')\n",
            "(32, datetime.date(2022, 4, 11), 'SUPER MAMI', 'JABON DE TOCADOR  REXONA  SENSIBLE X125G', 82.37, 0.0, 82.37, 'jabon')\n",
            "(33, datetime.date(2022, 4, 11), 'SUPER MAMI', 'JABON DE TOCADOR DOVE BLANCO ORIGINAL X 90 GR.', 154.96, 0.0, 154.96, 'jabon')\n",
            "(34, datetime.date(2022, 4, 11), 'SUPER MAMI', 'JABON DE TOCADOR DOVE EXFOLIACION X 90 GR.', 93.5, 0.0, 93.5, 'jabon')\n",
            "(35, datetime.date(2022, 4, 11), 'SUPER MAMI', 'JABON DE TOCADOR DOVE ORIGINAL X 90 GR.', 107.74, 0.0, 107.74, 'jabon')\n",
            "(36, datetime.date(2022, 4, 11), 'SUPER MAMI', 'JABON DE TOCADOR DOVE X 90 GR. X 6 UN.', 622.96, 0.0, 622.96, 'jabon')\n",
            "(37, datetime.date(2022, 4, 11), 'SUPER MAMI', 'JABON DE TOCADOR KENIA COLORMIX 3 UN. X 80 GR.', 128.44, 0.0, 128.44, 'jabon')\n",
            "(38, datetime.date(2022, 4, 11), 'SUPER MAMI', 'JABON DE TOCADOR KENIA CREMOSO X 90 GR.', 47.32, 0.0, 47.32, 'jabon')\n",
            "(39, datetime.date(2022, 4, 11), 'SUPER MAMI', 'JABON DE TOCADOR KENIA GLICERINA X 90 GR. X 4 UN.', 255.74, 0.0, 255.74, 'jabon')\n"
          ]
        }
      ]
    },
    {
      "cell_type": "code",
      "source": [
        ""
      ],
      "metadata": {
        "id": "5ncjPrCebXwl"
      },
      "execution_count": null,
      "outputs": []
    }
  ]
}