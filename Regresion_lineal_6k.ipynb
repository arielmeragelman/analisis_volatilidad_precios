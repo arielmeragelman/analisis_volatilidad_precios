{
 "cells": [
  {
   "cell_type": "code",
   "execution_count": null,
   "id": "78c13e46",
   "metadata": {},
   "outputs": [],
   "source": []
  },
  {
   "cell_type": "code",
   "execution_count": 66,
   "id": "ede94e98",
   "metadata": {},
   "outputs": [],
   "source": [
    "#pip install financialanalysis"
   ]
  },
  {
   "cell_type": "code",
   "execution_count": 67,
   "id": "cb2b5ce5",
   "metadata": {},
   "outputs": [],
   "source": [
    "# Imports necesarios\n",
    "import numpy as np\n",
    "import pandas as pd\n",
    "import seaborn as sb\n",
    "import matplotlib.pyplot as plt\n",
    "%matplotlib inline\n",
    "from mpl_toolkits.mplot3d import Axes3D\n",
    "from matplotlib import cm\n",
    "plt.rcParams['figure.figsize'] = (16, 9)\n",
    "plt.style.use('ggplot')\n",
    "from sklearn import linear_model\n",
    "from sklearn.metrics import mean_squared_error, r2_score\n",
    "import financialanalysis"
   ]
  },
  {
   "cell_type": "code",
   "execution_count": 18,
   "id": "1ad09158",
   "metadata": {},
   "outputs": [
    {
     "name": "stdout",
     "output_type": "stream",
     "text": [
      "Dimensiones de los datos: (107, 560)\n",
      "Dimensiones del indice : (6, 1)\n"
     ]
    }
   ],
   "source": [
    "#cargamos los datos de entrada\n",
    "indice = pd.read_csv(\"KMEAN_Centroides6K_V1.csv\",index_col=[0])\n",
    "data = pd.read_csv(\"Matriz_precios_back.csv\",index_col=[0])\n",
    "#veamos cuantas dimensiones y registros contiene\n",
    "print(\"Dimensiones de los datos: {}\".format(data.shape))\n",
    "print(\"Dimensiones del indice : {}\".format(indice.shape))"
   ]
  },
  {
   "cell_type": "code",
   "execution_count": 32,
   "id": "a410cc2d",
   "metadata": {},
   "outputs": [
    {
     "data": {
      "text/html": [
       "<div>\n",
       "<style scoped>\n",
       "    .dataframe tbody tr th:only-of-type {\n",
       "        vertical-align: middle;\n",
       "    }\n",
       "\n",
       "    .dataframe tbody tr th {\n",
       "        vertical-align: top;\n",
       "    }\n",
       "\n",
       "    .dataframe thead th {\n",
       "        text-align: right;\n",
       "    }\n",
       "</style>\n",
       "<table border=\"1\" class=\"dataframe\">\n",
       "  <thead>\n",
       "    <tr style=\"text-align: right;\">\n",
       "      <th></th>\n",
       "      <th>Productos</th>\n",
       "    </tr>\n",
       "  </thead>\n",
       "  <tbody>\n",
       "    <tr>\n",
       "      <th>0</th>\n",
       "      <td>LECHE TREGAR LARGA VIDA PEQUES X 1 LT.</td>\n",
       "    </tr>\n",
       "    <tr>\n",
       "      <th>1</th>\n",
       "      <td>DESODORANTE  NIVEA AEROSOL INVISIBLE   B&amp;W FRE...</td>\n",
       "    </tr>\n",
       "    <tr>\n",
       "      <th>2</th>\n",
       "      <td>LIMPIADOR CIF CREMA BIOACTIVE LIMON BOTELLA X ...</td>\n",
       "    </tr>\n",
       "    <tr>\n",
       "      <th>3</th>\n",
       "      <td>TAPA PARA EMPANADA OTTONELLO FREIR X 330 GR. X...</td>\n",
       "    </tr>\n",
       "    <tr>\n",
       "      <th>4</th>\n",
       "      <td>ACONDICIONADOR DOVE REGEN EXTREMA SUPERIOR X 4...</td>\n",
       "    </tr>\n",
       "    <tr>\n",
       "      <th>5</th>\n",
       "      <td>PAÑAL HUGGIES FLEXI COMFORT AHORRAPACK P X 50 UN.</td>\n",
       "    </tr>\n",
       "  </tbody>\n",
       "</table>\n",
       "</div>"
      ],
      "text/plain": [
       "                                           Productos\n",
       "0             LECHE TREGAR LARGA VIDA PEQUES X 1 LT.\n",
       "1  DESODORANTE  NIVEA AEROSOL INVISIBLE   B&W FRE...\n",
       "2  LIMPIADOR CIF CREMA BIOACTIVE LIMON BOTELLA X ...\n",
       "3  TAPA PARA EMPANADA OTTONELLO FREIR X 330 GR. X...\n",
       "4  ACONDICIONADOR DOVE REGEN EXTREMA SUPERIOR X 4...\n",
       "5  PAÑAL HUGGIES FLEXI COMFORT AHORRAPACK P X 50 UN."
      ]
     },
     "execution_count": 32,
     "metadata": {},
     "output_type": "execute_result"
    }
   ],
   "source": [
    "indice"
   ]
  },
  {
   "cell_type": "code",
   "execution_count": 43,
   "id": "91301aec",
   "metadata": {},
   "outputs": [],
   "source": [
    "centroides_k6=[]\n",
    "for i in range(indice.shape[0]): \n",
    "    centroides_k6.append(data[indice.iloc[i,:][0]])"
   ]
  },
  {
   "cell_type": "code",
   "execution_count": null,
   "id": "9cb2e1b6",
   "metadata": {},
   "outputs": [],
   "source": []
  },
  {
   "cell_type": "code",
   "execution_count": 91,
   "id": "fdc167b8",
   "metadata": {},
   "outputs": [],
   "source": [
    "X_train=np.array(centroides_k6[0].index)\n",
    "Y_train=np.array(centroides_k6[0].values)"
   ]
  },
  {
   "cell_type": "code",
   "execution_count": 92,
   "id": "8fd57f23",
   "metadata": {},
   "outputs": [],
   "source": [
    "def strdate_to_floatdate(data):\n",
    "#Funcion para convertir los indices de fecha en str a indices en float considerando la unidad el año y como decimales los meses (mes/12) y los dias (dias/30)\n",
    "    return int(data[0:4])+int(data[5:7])/120+int(data[8:10])/3000"
   ]
  },
  {
   "cell_type": "code",
   "execution_count": 93,
   "id": "8eae2f01",
   "metadata": {},
   "outputs": [],
   "source": [
    "X_train=np.array(list(map(strdate_to_floatdate,X_train)))"
   ]
  },
  {
   "cell_type": "code",
   "execution_count": null,
   "id": "bd8a9c88",
   "metadata": {},
   "outputs": [],
   "source": []
  },
  {
   "cell_type": "code",
   "execution_count": 94,
   "id": "c27fb9ea",
   "metadata": {},
   "outputs": [],
   "source": [
    "regr = linear_model.LinearRegression()"
   ]
  },
  {
   "cell_type": "code",
   "execution_count": 96,
   "id": "1cd30b58",
   "metadata": {},
   "outputs": [
    {
     "data": {
      "text/plain": [
       "LinearRegression()"
      ]
     },
     "execution_count": 96,
     "metadata": {},
     "output_type": "execute_result"
    }
   ],
   "source": [
    "regr.fit(X_train.reshape(-1, 1),Y_train)"
   ]
  },
  {
   "cell_type": "code",
   "execution_count": null,
   "id": "c76d530d",
   "metadata": {},
   "outputs": [],
   "source": []
  }
 ],
 "metadata": {
  "kernelspec": {
   "display_name": "Python 3 (ipykernel)",
   "language": "python",
   "name": "python3"
  },
  "language_info": {
   "codemirror_mode": {
    "name": "ipython",
    "version": 3
   },
   "file_extension": ".py",
   "mimetype": "text/x-python",
   "name": "python",
   "nbconvert_exporter": "python",
   "pygments_lexer": "ipython3",
   "version": "3.9.12"
  }
 },
 "nbformat": 4,
 "nbformat_minor": 5
}
